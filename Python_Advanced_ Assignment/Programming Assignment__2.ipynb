{
 "cells": [
  {
   "cell_type": "markdown",
   "metadata": {},
   "source": [
    "### 1. Write a Python program to convert kilometers to miles?"
   ]
  },
  {
   "cell_type": "code",
   "execution_count": 2,
   "metadata": {},
   "outputs": [
    {
     "name": "stdout",
     "output_type": "stream",
     "text": [
      "500 km is equal to 310.6855miles.\n"
     ]
    }
   ],
   "source": [
    "def km_to_miles(km):\n",
    "    miles = km*0.621371\n",
    "    print(\"{} km is equal to {}miles.\".format(km,miles))\n",
    "\n",
    "a = km_to_miles(500)"
   ]
  },
  {
   "cell_type": "markdown",
   "metadata": {},
   "source": [
    "### 2. Write a Python program to convert Celsius to Fahrenheit?"
   ]
  },
  {
   "cell_type": "code",
   "execution_count": 4,
   "metadata": {},
   "outputs": [
    {
     "name": "stdout",
     "output_type": "stream",
     "text": [
      "10°C is equal to 50.0°F\n"
     ]
    }
   ],
   "source": [
    "def celsius_to_fahrenheit(C):\n",
    "    fah = (C * 9/5) + 32\n",
    "    print(\"{}°C is equal to {}°F\".format(C,fah))\n",
    "    \n",
    "a = celsius_to_fahrenheit(10)"
   ]
  },
  {
   "cell_type": "markdown",
   "metadata": {},
   "source": [
    "### 3. Write a Python program to display calendar?"
   ]
  },
  {
   "cell_type": "code",
   "execution_count": 1,
   "metadata": {},
   "outputs": [
    {
     "name": "stdout",
     "output_type": "stream",
     "text": [
      "    October 1995\n",
      "Mo Tu We Th Fr Sa Su\n",
      "                   1\n",
      " 2  3  4  5  6  7  8\n",
      " 9 10 11 12 13 14 15\n",
      "16 17 18 19 20 21 22\n",
      "23 24 25 26 27 28 29\n",
      "30 31\n",
      "\n"
     ]
    }
   ],
   "source": [
    "import calendar\n",
    "def display_calender(year,month):\n",
    "    print(calendar.month(year,month))\n",
    "a = display_calender(1995,10)\n"
   ]
  },
  {
   "cell_type": "markdown",
   "metadata": {},
   "source": [
    "### 4. Write a Python program to solve quadratic equation?"
   ]
  },
  {
   "cell_type": "code",
   "execution_count": 1,
   "metadata": {},
   "outputs": [
    {
     "name": "stdout",
     "output_type": "stream",
     "text": [
      "Enter num_1: 1\n",
      "Enter num_2: 1\n",
      "Enter num_3: -1\n",
      "Quadratic Equation is: 1x^2+1x+-1=0\n",
      "Two possible values of our quadratic equation are 0.6180339887498949 and -1.618033988749895\n"
     ]
    }
   ],
   "source": [
    "# ax^2+bx+c=0\n",
    "a = int(input(\"Enter num_1: \"))\n",
    "b = int(input(\"Enter num_2: \"))\n",
    "c = int(input(\"Enter num_3: \"))\n",
    "\n",
    "print(\"Quadratic Equation is: {}x^2+{}x+{}=0\".format(a,b,c))\n",
    "\n",
    "if a==0:\n",
    "    print(\"a should not be equal to Zero\")\n",
    "else:\n",
    "    r = b**2 - 4*a*c\n",
    "    x1 = (((-b) + r**0.5)/(2*a))\n",
    "    x2 = (((-b) - r**0.5)/(2*a))\n",
    "    print(\"Two possible values of our quadratic equation are {} and {}\".format(x1,x2))"
   ]
  },
  {
   "cell_type": "markdown",
   "metadata": {},
   "source": [
    "### 5. Write a Python program to swap two variables without temp variable?"
   ]
  },
  {
   "cell_type": "code",
   "execution_count": 3,
   "metadata": {},
   "outputs": [
    {
     "name": "stdout",
     "output_type": "stream",
     "text": [
      "Enter variable_1: 5\n",
      "Enter variable_2: 6\n",
      "before swapping a = 5.0 and b = 6.0\n",
      "after swapping a = 6.0 and b = 5.0\n"
     ]
    }
   ],
   "source": [
    "a = float(input(\"Enter variable_1: \"))\n",
    "b = float(input(\"Enter variable_2: \"))\n",
    "\n",
    "print('before swapping a = {} and b = {}'.format(a,b))\n",
    "\n",
    "a = a+b\n",
    "b = a-b\n",
    "a = a-b\n",
    "\n",
    "print('after swapping a = {} and b = {}'.format(a,b))"
   ]
  }
 ],
 "metadata": {
  "kernelspec": {
   "display_name": "Python 3",
   "language": "python",
   "name": "python3"
  },
  "language_info": {
   "codemirror_mode": {
    "name": "ipython",
    "version": 3
   },
   "file_extension": ".py",
   "mimetype": "text/x-python",
   "name": "python",
   "nbconvert_exporter": "python",
   "pygments_lexer": "ipython3",
   "version": "3.8.8"
  }
 },
 "nbformat": 4,
 "nbformat_minor": 4
}
