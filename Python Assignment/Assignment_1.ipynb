{
 "cells": [
  {
   "cell_type": "markdown",
   "id": "8df3a64b",
   "metadata": {},
   "source": [
    "# Python Basic Assignment\n",
    "\n",
    "Assignment_1"
   ]
  },
  {
   "cell_type": "markdown",
   "id": "5baf64f1",
   "metadata": {},
   "source": [
    "1. In the below elements which of them are values or an expression? eg.values can be integer or string and expression will\n",
    "   be mathematical operators.\n",
    "    \n",
    "Ans :\n",
    "    \n",
    " *      : Expression(mathematical operator)\n",
    "    \n",
    "'hello' : Values(String which is under in single quote)\n",
    "    \n",
    "-87.8   : Values(Floting point number)\n",
    "    \n",
    "  -     : Expression(mathematical operator)\n",
    "    \n",
    "  +     : Expression(mathematical operator)\n",
    "    \n",
    "  6     : Value(integer)\n",
    "    \n"
   ]
  },
  {
   "cell_type": "markdown",
   "id": "61cc4f22",
   "metadata": {},
   "source": [
    "2 - What is the difference between string and variable?\n",
    "\n",
    "Ans:\n",
    "    \n",
    "    String(str) = String is a one of the data type which hold the data in single quote('') or double quote(\"\") \n",
    "             or triple quote(''' ''').\n",
    "        \n",
    "    Variable =  A variable in python defined through assgnment operator(=). Store any kind of element like int /\n",
    "               float/ completx etc.\n",
    "               e.g  a = 10 [ here data is 10 and i have assign 10 to a variable name a  which is holding the data in memory]    \n"
   ]
  },
  {
   "cell_type": "markdown",
   "id": "b6f95ecc",
   "metadata": {},
   "source": [
    "3. Describe three different data types.\n",
    "\n",
    "Ans:\n",
    "    \n",
    "Integers - Integer are created by any number without decimal or complex component.\n",
    "           e.g 1,2,3,4,5,6,7,8 .etc\n",
    "           a = 12\n",
    "           type(a) = <class int>\n",
    "            \n",
    "list    - list is a collection hetrogenius data type , Normally we can say it is a container which is hold any\n",
    "          type of data under in Square Bracket[]\n",
    "          e.g l = [1,2,3,5.5,8+5j,\"Hello\"]\n",
    "        \n",
    "string  - String is a one of the data type which hold the data in single quote('') or double quote(\"\") \n",
    "          or triple quote(''' ''').\n",
    "          \n",
    "         eg . a = \"hello this my first assignment\"\n",
    "    \n",
    "    "
   ]
  },
  {
   "cell_type": "markdown",
   "id": "73f1f880",
   "metadata": {},
   "source": [
    "4. What is an expression made up of? What do all expressions do?\n",
    "\n",
    "Ans: \n",
    "    \n",
    "Expression is the combinaton of mathematical operators, variables. Using methematical operator we \n",
    "produce express our problem.\n",
    "\n",
    "Expression  is used to produre result."
   ]
  },
  {
   "cell_type": "markdown",
   "id": "9403fcb5",
   "metadata": {},
   "source": [
    "5. This assignment statements, like spam = 10. What is the difference between an expression and a statement?\n",
    "\n",
    "Ans:\n",
    "    \n",
    "    \n",
    "Expression is made up of values, containers, and mathematical operators and the \n",
    "statement is just like a command that a python interpreter executes like print.\n"
   ]
  },
  {
   "cell_type": "markdown",
   "id": "67ecc32a",
   "metadata": {},
   "source": [
    "6. After running the following code, what does the variable bacon contain?\n",
    "\n",
    "bacon = 22\n",
    "bacon + 1       "
   ]
  },
  {
   "cell_type": "markdown",
   "id": "84ce9748",
   "metadata": {},
   "source": [
    "Ans : Bacon variable contain 23 after the excution  "
   ]
  },
  {
   "cell_type": "code",
   "execution_count": 9,
   "id": "50ae5a8d",
   "metadata": {},
   "outputs": [
    {
     "data": {
      "text/plain": [
       "23"
      ]
     },
     "execution_count": 9,
     "metadata": {},
     "output_type": "execute_result"
    }
   ],
   "source": [
    "bacon = 22\n",
    "bacon +1"
   ]
  },
  {
   "cell_type": "markdown",
   "id": "f15c6210",
   "metadata": {},
   "source": [
    "7. What should the values of the following two terms be?\n",
    "\n",
    "\n",
    "'spam' + 'spamspam'\n",
    "'spam' * 3\n"
   ]
  },
  {
   "cell_type": "raw",
   "id": "006d4c6a",
   "metadata": {},
   "source": [
    "Ans :\n",
    "    \n",
    "'spam'  +'spamspam' = 'spamspamspam'\n",
    "'spam'*3 = 'spamspamspam'"
   ]
  },
  {
   "cell_type": "code",
   "execution_count": 23,
   "id": "afc9c7e8",
   "metadata": {},
   "outputs": [
    {
     "data": {
      "text/plain": [
       "'spamspamspam'"
      ]
     },
     "execution_count": 23,
     "metadata": {},
     "output_type": "execute_result"
    }
   ],
   "source": [
    "'spam'  +'spamspam'"
   ]
  },
  {
   "cell_type": "code",
   "execution_count": 24,
   "id": "6a32bcc7",
   "metadata": {},
   "outputs": [
    {
     "data": {
      "text/plain": [
       "'spamspamspam'"
      ]
     },
     "execution_count": 24,
     "metadata": {},
     "output_type": "execute_result"
    }
   ],
   "source": [
    "'spam'*3"
   ]
  },
  {
   "cell_type": "markdown",
   "id": "a9225259",
   "metadata": {},
   "source": [
    "8. Why is eggs a valid variable name while 100 is invalid?\n",
    "\n",
    "Ans : In python variable name must start with alphabatics or (_) name.\n",
    "     e.g are below why egg is valid and 100 is not valid"
   ]
  },
  {
   "cell_type": "code",
   "execution_count": 25,
   "id": "f0b6abf9",
   "metadata": {},
   "outputs": [],
   "source": [
    "egg = 10"
   ]
  },
  {
   "cell_type": "code",
   "execution_count": 27,
   "id": "9cd25dac",
   "metadata": {},
   "outputs": [
    {
     "ename": "SyntaxError",
     "evalue": "cannot assign to literal (<ipython-input-27-984c1051b329>, line 1)",
     "output_type": "error",
     "traceback": [
      "\u001b[1;36m  File \u001b[1;32m\"<ipython-input-27-984c1051b329>\"\u001b[1;36m, line \u001b[1;32m1\u001b[0m\n\u001b[1;33m    100 = \"hello\"\u001b[0m\n\u001b[1;37m    ^\u001b[0m\n\u001b[1;31mSyntaxError\u001b[0m\u001b[1;31m:\u001b[0m cannot assign to literal\n"
     ]
    }
   ],
   "source": [
    "100 = \"hello\""
   ]
  },
  {
   "cell_type": "markdown",
   "id": "5c4413bf",
   "metadata": {},
   "source": [
    "9. What three functions can be used to get the integer, floating-point number, or string version of a value?\n",
    "\n",
    "Ans :\n",
    "    \n",
    "int()\n",
    "float()\n",
    "str()\n",
    "\n",
    "these function we can used to get the integer and floating-point number or string version of the value"
   ]
  },
  {
   "cell_type": "markdown",
   "id": "cdadf34d",
   "metadata": {},
   "source": [
    "10. Why does this expression cause an error? How can you fix it?\n",
    "\n",
    "\n",
    "'I have eaten ' + 99 + ' burritos.'\n",
    "\n",
    "\n",
    "Ans : Only concatinate same type of data type, but here i have typecaste the str(99). \n",
    "\n",
    "#Error\n",
    "'I have eaten' + 99 + 'burritos'\n",
    "\n",
    "TypeError: can only concatenate str (not \"int\") to str\n",
    "\n",
    "#Fix\n",
    "'I have eaten'+ str(99) + 'burritos'\n",
    "\n",
    "'I have eaten99burritos'"
   ]
  },
  {
   "cell_type": "code",
   "execution_count": 28,
   "id": "64b6aadb",
   "metadata": {},
   "outputs": [
    {
     "ename": "TypeError",
     "evalue": "can only concatenate str (not \"int\") to str",
     "output_type": "error",
     "traceback": [
      "\u001b[1;31m---------------------------------------------------------------------------\u001b[0m",
      "\u001b[1;31mTypeError\u001b[0m                                 Traceback (most recent call last)",
      "\u001b[1;32m<ipython-input-28-7f26a13766ab>\u001b[0m in \u001b[0;36m<module>\u001b[1;34m\u001b[0m\n\u001b[0;32m      1\u001b[0m \u001b[1;31m#Error\u001b[0m\u001b[1;33m\u001b[0m\u001b[1;33m\u001b[0m\u001b[1;33m\u001b[0m\u001b[0m\n\u001b[1;32m----> 2\u001b[1;33m \u001b[1;34m'I have eaten'\u001b[0m \u001b[1;33m+\u001b[0m \u001b[1;36m99\u001b[0m \u001b[1;33m+\u001b[0m \u001b[1;34m'burritos'\u001b[0m\u001b[1;33m\u001b[0m\u001b[1;33m\u001b[0m\u001b[0m\n\u001b[0m",
      "\u001b[1;31mTypeError\u001b[0m: can only concatenate str (not \"int\") to str"
     ]
    }
   ],
   "source": [
    "#Error\n",
    "'I have eaten' + 99 + 'burritos'"
   ]
  },
  {
   "cell_type": "code",
   "execution_count": 29,
   "id": "37099c63",
   "metadata": {},
   "outputs": [
    {
     "data": {
      "text/plain": [
       "'I have eaten99burritos'"
      ]
     },
     "execution_count": 29,
     "metadata": {},
     "output_type": "execute_result"
    }
   ],
   "source": [
    "#Fix\n",
    "'I have eaten'+ str(99) + 'burritos'"
   ]
  },
  {
   "cell_type": "code",
   "execution_count": 30,
   "id": "4e1c28db",
   "metadata": {},
   "outputs": [],
   "source": [
    "#End"
   ]
  },
  {
   "cell_type": "code",
   "execution_count": null,
   "id": "9085a636",
   "metadata": {},
   "outputs": [],
   "source": []
  }
 ],
 "metadata": {
  "kernelspec": {
   "display_name": "Python 3",
   "language": "python",
   "name": "python3"
  },
  "language_info": {
   "codemirror_mode": {
    "name": "ipython",
    "version": 3
   },
   "file_extension": ".py",
   "mimetype": "text/x-python",
   "name": "python",
   "nbconvert_exporter": "python",
   "pygments_lexer": "ipython3",
   "version": "3.8.8"
  }
 },
 "nbformat": 4,
 "nbformat_minor": 5
}
