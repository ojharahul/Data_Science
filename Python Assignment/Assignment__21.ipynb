{
 "cells": [
  {
   "cell_type": "markdown",
   "id": "984b4513",
   "metadata": {},
   "source": [
    "# Assignment 21 Solutions"
   ]
  },
  {
   "cell_type": "markdown",
   "id": "4fe8b19e",
   "metadata": {},
   "source": [
    "#### 1. Add the current date to the text file today.txt as a string."
   ]
  },
  {
   "cell_type": "code",
   "execution_count": 1,
   "id": "4c5ad5ac",
   "metadata": {},
   "outputs": [
    {
     "name": "stdout",
     "output_type": "stream",
     "text": [
      "14-02-2022\n"
     ]
    }
   ],
   "source": [
    "import datetime\n",
    "# Code to Add current date to the today.txt file\n",
    "file = open('today.txt','w')\n",
    "file.write(datetime.datetime.now().strftime(\"%d-%m-%Y\"))\n",
    "file.close()\n",
    "# Code to Read current date from today.txt file\n",
    "file = open('today.txt','r')\n",
    "print(file.read())\n",
    "file.close()"
   ]
  },
  {
   "cell_type": "markdown",
   "id": "6cf23762",
   "metadata": {},
   "source": [
    "#### 2. Read the text file today.txt into the string today_string"
   ]
  },
  {
   "cell_type": "code",
   "execution_count": 2,
   "id": "107143ea",
   "metadata": {},
   "outputs": [
    {
     "name": "stdout",
     "output_type": "stream",
     "text": [
      "14-02-2022\n"
     ]
    }
   ],
   "source": [
    "file = open('today.txt','r')\n",
    "today_string = file.read()\n",
    "print(today_string)"
   ]
  },
  {
   "cell_type": "markdown",
   "id": "165addb6",
   "metadata": {},
   "source": [
    "#### 3. Parse the date from today_string."
   ]
  },
  {
   "cell_type": "code",
   "execution_count": 3,
   "id": "c622da5b",
   "metadata": {},
   "outputs": [
    {
     "name": "stdout",
     "output_type": "stream",
     "text": [
      "2022-02-14 00:00:00\n"
     ]
    }
   ],
   "source": [
    "from datetime import datetime\n",
    "parsed_data = datetime.strptime(today_string, '%d-%m-%Y')\n",
    "print(parsed_data)"
   ]
  },
  {
   "cell_type": "markdown",
   "id": "664d3278",
   "metadata": {},
   "source": [
    "#### 4. List the files in your current directory"
   ]
  },
  {
   "cell_type": "code",
   "execution_count": 4,
   "id": "cbacd0e4",
   "metadata": {},
   "outputs": [
    {
     "name": "stdout",
     "output_type": "stream",
     "text": [
      "Assignment_07.ipynb\n",
      "Assignment_08.ipynb\n",
      "Assignment_09.ipynb\n",
      "Assignment_10.ipynb\n",
      "Assignment__11.ipynb\n",
      "Assignment__12.ipynb\n",
      "Assignment__13.ipynb\n",
      "Assignment__14.ipynb\n",
      "Assignment__15.ipynb\n",
      "Assignment__16.ipynb\n",
      "Assignment__17.ipynb\n",
      "Assignment__18.ipynb\n",
      "Assignment__19.ipynb\n",
      "Assignment__20.ipynb\n",
      "Assignment__21.ipynb\n",
      "Assignment__22.ipynb\n",
      "Assignment__23.ipynb\n",
      "Assignment__24.ipynb\n",
      "Assignment__25.ipynb\n",
      "today.txt\n",
      "trial.txt\n",
      "Assignment_07-checkpoint.ipynb\n",
      "Assignment_08-checkpoint.ipynb\n",
      "Assignment_09-checkpoint.ipynb\n",
      "Assignment_10-checkpoint.ipynb\n",
      "Assignment__11-checkpoint.ipynb\n",
      "Assignment__12-checkpoint.ipynb\n",
      "Assignment__13-checkpoint.ipynb\n",
      "Assignment__14-checkpoint.ipynb\n",
      "Assignment__15-checkpoint.ipynb\n",
      "Assignment__19-checkpoint.ipynb\n",
      "Assignment__20-checkpoint.ipynb\n"
     ]
    }
   ],
   "source": [
    "import os\n",
    "for folders, subfolders, files in os.walk(os.getcwd()):\n",
    "    for file in files:\n",
    "        print(file)"
   ]
  },
  {
   "cell_type": "markdown",
   "id": "291a203b",
   "metadata": {},
   "source": [
    "#### 5. Create a list of all of the files in your parent directory (minimum five files should be available)."
   ]
  },
  {
   "cell_type": "code",
   "execution_count": 5,
   "id": "efe9618b",
   "metadata": {},
   "outputs": [
    {
     "data": {
      "text/plain": [
       "['.ipynb_checkpoints',\n",
       " 'Assignment_07.ipynb',\n",
       " 'Assignment_08.ipynb',\n",
       " 'Assignment_09.ipynb',\n",
       " 'Assignment_10.ipynb',\n",
       " 'Assignment__11.ipynb',\n",
       " 'Assignment__12.ipynb',\n",
       " 'Assignment__13.ipynb',\n",
       " 'Assignment__14.ipynb',\n",
       " 'Assignment__15.ipynb',\n",
       " 'Assignment__16.ipynb',\n",
       " 'Assignment__17.ipynb',\n",
       " 'Assignment__18.ipynb',\n",
       " 'Assignment__19.ipynb',\n",
       " 'Assignment__20.ipynb',\n",
       " 'Assignment__21.ipynb',\n",
       " 'Assignment__22.ipynb',\n",
       " 'Assignment__23.ipynb',\n",
       " 'Assignment__24.ipynb',\n",
       " 'Assignment__25.ipynb',\n",
       " 'today.txt',\n",
       " 'trial.txt']"
      ]
     },
     "execution_count": 5,
     "metadata": {},
     "output_type": "execute_result"
    }
   ],
   "source": [
    "import os \n",
    "os.listdir()"
   ]
  },
  {
   "cell_type": "markdown",
   "id": "203dd9fe",
   "metadata": {},
   "source": [
    "#### 6. Use multiprocessing to create three separate processes. Make each one wait a random number of seconds between one and five, print the current time, and then exit."
   ]
  },
  {
   "cell_type": "code",
   "execution_count": 6,
   "id": "bcb2799b",
   "metadata": {},
   "outputs": [],
   "source": [
    "import multiprocessing\n",
    "import time \n",
    "import random\n",
    "import datetime\n",
    "\n",
    "def procOne():\n",
    "    print(f'Proc_one_Starttime -> {datetime.datetime.now()}')\n",
    "    time.sleep(random.randint(1,5))\n",
    "    print(f'Proc_one_Endtime -> {datetime.datetime.now()}')\n",
    "    \n",
    "def procTwo():\n",
    "    print(f'Proc_two_Starttime -> {datetime.datetime.now()}')\n",
    "    time.sleep(random.randint(1,5))\n",
    "    print(f'Proc_two_Endtime -> {datetime.datetime.now()}')\n",
    "\n",
    "def procThree():\n",
    "    print(f'Proc_two_Starttime -> {datetime.datetime.now()}')\n",
    "    time.sleep(random.randint(1,5))\n",
    "    print(f'Proc_two_Endtime -> {datetime.datetime.now()}')\n",
    "    \n",
    "if __name__ == \"__main__\":    \n",
    "    p1 = multiprocessing.Process(target=procOne)\n",
    "    p2 = multiprocessing.Process(target=procTwo)\n",
    "    p3 = multiprocessing.Process(target=procThree)\n",
    "\n",
    "    p1.start()\n",
    "    p2.start()\n",
    "    p3.start()\n",
    "\n",
    "    p1.join()\n",
    "    p2.join()\n",
    "    p3.join()"
   ]
  },
  {
   "cell_type": "markdown",
   "id": "710ba830-38ca-4814-a28d-a266099ff07f",
   "metadata": {},
   "source": [
    "The above did not print any results in the jupyter cell. so i copied the code to a python file. executed it and pasted the ouput here  \n",
    "\n",
    "`(base) C:\\Users\\vishnu.adepu\\Desktop>python es_poc.py`  \n",
    "`Proc_one_Starttime -> 2022-02-13 18:41:59.354061`  \n",
    "`Proc_two_Starttime -> 2022-02-13 18:41:59.363712`  \n",
    "`Proc_two_Starttime -> 2022-02-13 18:41:59.367238`  \n",
    "`Proc_two_Endtime -> 2022-02-13 18:42:04.369860`  \n",
    "`Proc_two_Endtime -> 2022-02-13 18:42:04.369860`  \n",
    "`Proc_one_Endtime -> 2022-02-13 18:42:04.369860`  "
   ]
  },
  {
   "cell_type": "markdown",
   "id": "71d07e78",
   "metadata": {},
   "source": [
    "#### 7. Create a date object of your day of birth."
   ]
  },
  {
   "cell_type": "code",
   "execution_count": 7,
   "id": "b3e67c1c",
   "metadata": {},
   "outputs": [
    {
     "name": "stdout",
     "output_type": "stream",
     "text": [
      "1995-10-25 00:00:00 <class 'datetime.datetime'>\n"
     ]
    }
   ],
   "source": [
    "from datetime import datetime\n",
    "my_dob = datetime.strptime('25/10/1995','%d/%m/%Y')\n",
    "print(my_dob, type(my_dob))"
   ]
  },
  {
   "cell_type": "markdown",
   "id": "e5775db9",
   "metadata": {},
   "source": [
    "#### 8. What day of the week was your day of birth?"
   ]
  },
  {
   "cell_type": "code",
   "execution_count": 8,
   "id": "65b6ae43",
   "metadata": {},
   "outputs": [
    {
     "data": {
      "text/plain": [
       "'Wednesday'"
      ]
     },
     "execution_count": 8,
     "metadata": {},
     "output_type": "execute_result"
    }
   ],
   "source": [
    "from datetime import datetime\n",
    "my_dob = datetime(1995,10,25)\n",
    "my_dob.strftime(\"%A\")"
   ]
  },
  {
   "cell_type": "markdown",
   "id": "abe779de",
   "metadata": {},
   "source": [
    "#### 9. When will you be (or when were you) 10,000 days old?"
   ]
  },
  {
   "cell_type": "code",
   "execution_count": 9,
   "id": "db7e28a0",
   "metadata": {},
   "outputs": [
    {
     "data": {
      "text/plain": [
       "datetime.datetime(1968, 6, 8, 0, 0)"
      ]
     },
     "execution_count": 9,
     "metadata": {},
     "output_type": "execute_result"
    }
   ],
   "source": [
    "from datetime import datetime, timedelta\n",
    "my_dob = datetime.strptime(\"25/10/1995\",'%d/%m/%Y')\n",
    "future_date = my_dob-timedelta(10000)\n",
    "future_date"
   ]
  },
  {
   "cell_type": "code",
   "execution_count": null,
   "id": "eaa04383",
   "metadata": {},
   "outputs": [],
   "source": []
  }
 ],
 "metadata": {
  "kernelspec": {
   "display_name": "Python 3",
   "language": "python",
   "name": "python3"
  },
  "language_info": {
   "codemirror_mode": {
    "name": "ipython",
    "version": 3
   },
   "file_extension": ".py",
   "mimetype": "text/x-python",
   "name": "python",
   "nbconvert_exporter": "python",
   "pygments_lexer": "ipython3",
   "version": "3.8.8"
  }
 },
 "nbformat": 4,
 "nbformat_minor": 5
}
