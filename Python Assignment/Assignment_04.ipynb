{
 "cells": [
  {
   "cell_type": "markdown",
   "id": "a43e366c",
   "metadata": {},
   "source": [
    "# Assignment_04"
   ]
  },
  {
   "cell_type": "markdown",
   "id": "97bfc9ef",
   "metadata": {},
   "source": [
    "01"
   ]
  },
  {
   "cell_type": "markdown",
   "id": "dfa447e4",
   "metadata": {},
   "source": [
    " What exactly is []?"
   ]
  },
  {
   "cell_type": "markdown",
   "id": "9dbb2c58",
   "metadata": {},
   "source": [
    "Ans :\n",
    "    \n",
    "This is the list symbol containertype look like. list represent an ordered , mutable  collection of object.\n",
    "\n",
    "list is the hetrogenius type of data type which can contain any type of data \n",
    "\n",
    "eg. integer, complex , string , tuple .\n",
    "\n",
    "[1,2,3,4,5,6.6,5+8j,\"hello\"]"
   ]
  },
  {
   "cell_type": "markdown",
   "id": "07dda3f2",
   "metadata": {},
   "source": [
    "02"
   ]
  },
  {
   "cell_type": "markdown",
   "id": "4a6046ca",
   "metadata": {},
   "source": [
    "In a list of values stored in a variable called spam, how would you assign the value 'hello' as the third value? \n",
    "\n",
    "(Assume [2, 4, 6, 8, 10] are in spam.)"
   ]
  },
  {
   "cell_type": "markdown",
   "id": "c5ed2b55",
   "metadata": {},
   "source": [
    "Ans:"
   ]
  },
  {
   "cell_type": "code",
   "execution_count": 2,
   "id": "3a173306",
   "metadata": {},
   "outputs": [
    {
     "name": "stdout",
     "output_type": "stream",
     "text": [
      "[2, 4, 6, 'hello', 8, 10]\n"
     ]
    }
   ],
   "source": [
    "spam = [2,4,6,8,10]\n",
    "spam.insert(3,'hello')  #--------Use insert function to store the data\n",
    "print(spam)"
   ]
  },
  {
   "cell_type": "markdown",
   "id": "7bf5fc7c",
   "metadata": {},
   "source": [
    "03"
   ]
  },
  {
   "cell_type": "markdown",
   "id": "9e6c601d",
   "metadata": {},
   "source": [
    "What is the value of spam[int(int('3' * 2) / 11)]?"
   ]
  },
  {
   "cell_type": "markdown",
   "id": "2da48b4c",
   "metadata": {},
   "source": [
    "Ans : 'd'"
   ]
  },
  {
   "cell_type": "code",
   "execution_count": 2,
   "id": "2ebb12dd",
   "metadata": {},
   "outputs": [
    {
     "data": {
      "text/plain": [
       "'d'"
      ]
     },
     "execution_count": 2,
     "metadata": {},
     "output_type": "execute_result"
    }
   ],
   "source": [
    "spam = ['a','b','c','d']\n",
    "spam[int(int('3'*2)/11)]"
   ]
  },
  {
   "cell_type": "markdown",
   "id": "b060b024",
   "metadata": {},
   "source": [
    "04"
   ]
  },
  {
   "cell_type": "markdown",
   "id": "2dde1415",
   "metadata": {},
   "source": [
    "What is the value of spam[-1]?"
   ]
  },
  {
   "cell_type": "code",
   "execution_count": 12,
   "id": "f3b1cbfe",
   "metadata": {},
   "outputs": [],
   "source": [
    "Ans: 'd'"
   ]
  },
  {
   "cell_type": "code",
   "execution_count": 13,
   "id": "fa5af401",
   "metadata": {},
   "outputs": [
    {
     "data": {
      "text/plain": [
       "'d'"
      ]
     },
     "execution_count": 13,
     "metadata": {},
     "output_type": "execute_result"
    }
   ],
   "source": [
    "spam[-1]"
   ]
  },
  {
   "cell_type": "markdown",
   "id": "324563b3",
   "metadata": {},
   "source": [
    "05"
   ]
  },
  {
   "cell_type": "markdown",
   "id": "59138a5b",
   "metadata": {},
   "source": [
    "What is the value of spam[:2]?"
   ]
  },
  {
   "cell_type": "code",
   "execution_count": 14,
   "id": "0c0d9131",
   "metadata": {},
   "outputs": [],
   "source": [
    "Ans : \"c\""
   ]
  },
  {
   "cell_type": "code",
   "execution_count": 3,
   "id": "de2a8425",
   "metadata": {},
   "outputs": [
    {
     "data": {
      "text/plain": [
       "['a', 'b']"
      ]
     },
     "execution_count": 3,
     "metadata": {},
     "output_type": "execute_result"
    }
   ],
   "source": [
    "spam[:2]"
   ]
  },
  {
   "cell_type": "markdown",
   "id": "b6b3e429",
   "metadata": {},
   "source": [
    "06"
   ]
  },
  {
   "cell_type": "markdown",
   "id": "d5105260",
   "metadata": {},
   "source": [
    "What is the value of bacon.index('cat')?\n",
    "\n",
    "list[3.14 , 'cat' , 11 , 'cat' , True]"
   ]
  },
  {
   "cell_type": "markdown",
   "id": "5b5fb7f5",
   "metadata": {},
   "source": [
    "Ans : Index function give index number first occurence of the  value"
   ]
  },
  {
   "cell_type": "code",
   "execution_count": 16,
   "id": "8166e7ed",
   "metadata": {},
   "outputs": [
    {
     "data": {
      "text/plain": [
       "1"
      ]
     },
     "execution_count": 16,
     "metadata": {},
     "output_type": "execute_result"
    }
   ],
   "source": [
    "bacon = [3.14 , 'cat' , 11 , 'cat' , True]\n",
    "bacon.index('cat')"
   ]
  },
  {
   "cell_type": "markdown",
   "id": "d7b02076",
   "metadata": {},
   "source": [
    "07"
   ]
  },
  {
   "cell_type": "markdown",
   "id": "8bba232c",
   "metadata": {},
   "source": [
    "How does bacon.append(99) change the look of the list value in bacon?"
   ]
  },
  {
   "cell_type": "markdown",
   "id": "981913f0",
   "metadata": {},
   "source": [
    "Ans: Append add the data at the tail position."
   ]
  },
  {
   "cell_type": "code",
   "execution_count": 18,
   "id": "fc34091f",
   "metadata": {},
   "outputs": [
    {
     "data": {
      "text/plain": [
       "[3.14, 'cat', 11, 'cat', True, 99]"
      ]
     },
     "execution_count": 18,
     "metadata": {},
     "output_type": "execute_result"
    }
   ],
   "source": [
    "bacon = [3.14 , 'cat' , 11 , 'cat' , True]\n",
    "bacon.append(99)\n",
    "bacon"
   ]
  },
  {
   "cell_type": "markdown",
   "id": "19fe1baa",
   "metadata": {},
   "source": [
    "08"
   ]
  },
  {
   "cell_type": "markdown",
   "id": "1735aa5e",
   "metadata": {},
   "source": [
    "How does bacon.remove('cat') change the look of the list in bacon?"
   ]
  },
  {
   "cell_type": "markdown",
   "id": "446042ae",
   "metadata": {},
   "source": [
    "Ans:  Remove first occurence of value"
   ]
  },
  {
   "cell_type": "code",
   "execution_count": 21,
   "id": "ed187865",
   "metadata": {},
   "outputs": [
    {
     "data": {
      "text/plain": [
       "[3.14, 11, 'cat', True]"
      ]
     },
     "execution_count": 21,
     "metadata": {},
     "output_type": "execute_result"
    }
   ],
   "source": [
    "bacon = [3.14 , 'cat' , 11 , 'cat' , True]\n",
    "bacon.remove('cat')\n",
    "bacon"
   ]
  },
  {
   "cell_type": "markdown",
   "id": "19b90c1b",
   "metadata": {},
   "source": [
    "09"
   ]
  },
  {
   "cell_type": "markdown",
   "id": "d024b83f",
   "metadata": {},
   "source": [
    "What are the list concatenation and list replication operators?"
   ]
  },
  {
   "cell_type": "markdown",
   "id": "7e22a329",
   "metadata": {},
   "source": [
    "Ans:"
   ]
  },
  {
   "cell_type": "markdown",
   "id": "6d9678cf",
   "metadata": {},
   "source": [
    "Replication operators(*) : When * is used with an integer it performs multiplication \n",
    "                       \n",
    "                          but with list, tuple or strings it performs a repetition.\n",
    "            \n",
    "Concatenation operators(+): Concatenation is done by + operator when both data type is same."
   ]
  },
  {
   "cell_type": "code",
   "execution_count": 24,
   "id": "06fe30fd",
   "metadata": {},
   "outputs": [
    {
     "data": {
      "text/plain": [
       "[1, 2, 3, 4, 5, 6, 7, 8, 9, 10]"
      ]
     },
     "execution_count": 24,
     "metadata": {},
     "output_type": "execute_result"
    }
   ],
   "source": [
    "#List concatenation\n",
    "l = [1,2,3,4,5]\n",
    "l1= [6,7,8,9,10]\n",
    "l+l1"
   ]
  },
  {
   "cell_type": "code",
   "execution_count": 27,
   "id": "417d958d",
   "metadata": {},
   "outputs": [
    {
     "data": {
      "text/plain": [
       "['a', 'b', 'c', 'a', 'b', 'c']"
      ]
     },
     "execution_count": 27,
     "metadata": {},
     "output_type": "execute_result"
    }
   ],
   "source": [
    "#List Replication \n",
    "l2 = ['a' ,'b', 'c']\n",
    "\n",
    "l2*2"
   ]
  },
  {
   "cell_type": "markdown",
   "id": "75e8bfe3",
   "metadata": {},
   "source": [
    "10"
   ]
  },
  {
   "cell_type": "markdown",
   "id": "c6cb9386",
   "metadata": {},
   "source": [
    "What is difference between the list methods append() and insert()?"
   ]
  },
  {
   "cell_type": "markdown",
   "id": "406882d1",
   "metadata": {},
   "source": [
    "Ans:"
   ]
  },
  {
   "cell_type": "markdown",
   "id": "957c5338",
   "metadata": {},
   "source": [
    "Append : Append method we use for add the data or element in the existing list at the tail position.\n",
    "    \n",
    "insert : insert method we use for add tha data or element at particlar index."
   ]
  },
  {
   "cell_type": "code",
   "execution_count": 36,
   "id": "e04b65d6",
   "metadata": {},
   "outputs": [
    {
     "data": {
      "text/plain": [
       "[1, 2, 3, 4, 5, 'hello']"
      ]
     },
     "execution_count": 36,
     "metadata": {},
     "output_type": "execute_result"
    }
   ],
   "source": [
    "#Append\n",
    "\n",
    "l = [1,2,3,4,5]\n",
    "l.append('hello')\n",
    "l\n"
   ]
  },
  {
   "cell_type": "code",
   "execution_count": 38,
   "id": "84d17ac7",
   "metadata": {},
   "outputs": [
    {
     "data": {
      "text/plain": [
       "[1, 2, 3, 'hello', 4, 5]"
      ]
     },
     "execution_count": 38,
     "metadata": {},
     "output_type": "execute_result"
    }
   ],
   "source": [
    "#Insert\n",
    "\n",
    "l1 = [1,2,3,4,5]\n",
    "l1.insert(3,'hello')    #--------insert(indext,object)\n",
    "l1"
   ]
  },
  {
   "cell_type": "markdown",
   "id": "a505bebf",
   "metadata": {},
   "source": [
    "11"
   ]
  },
  {
   "cell_type": "markdown",
   "id": "e26ffae6",
   "metadata": {},
   "source": [
    "What are the two methods for removing items from a list?"
   ]
  },
  {
   "cell_type": "markdown",
   "id": "15e3393b",
   "metadata": {},
   "source": [
    "Ans: "
   ]
  },
  {
   "cell_type": "markdown",
   "id": "42533b3b",
   "metadata": {},
   "source": [
    "There are two method for removing the items from the list.\n",
    "\n",
    "1- remove()\n",
    "\n",
    "2 - pop()"
   ]
  },
  {
   "cell_type": "code",
   "execution_count": 40,
   "id": "cc3f884b",
   "metadata": {},
   "outputs": [
    {
     "data": {
      "text/plain": [
       "[4, 5, 7, 8, 6]"
      ]
     },
     "execution_count": 40,
     "metadata": {},
     "output_type": "execute_result"
    }
   ],
   "source": [
    "#remove\n",
    "\n",
    "l = [5,4,5,7,8,6]\n",
    "l.remove(5)   #-------remove only first occurece of value\n",
    "l"
   ]
  },
  {
   "cell_type": "code",
   "execution_count": 42,
   "id": "ddebe28d",
   "metadata": {},
   "outputs": [
    {
     "data": {
      "text/plain": [
       "7"
      ]
     },
     "execution_count": 42,
     "metadata": {},
     "output_type": "execute_result"
    }
   ],
   "source": [
    "#pop()\n",
    "\n",
    "l = [5,4,7,8,9]\n",
    "l.pop(2)  # ------remove item by giving index number but default remove -1 postion."
   ]
  },
  {
   "cell_type": "markdown",
   "id": "7f2ba2d8",
   "metadata": {},
   "source": [
    "12"
   ]
  },
  {
   "cell_type": "markdown",
   "id": "ce0fdc6c",
   "metadata": {},
   "source": [
    "Describe how list values and string values are identical."
   ]
  },
  {
   "cell_type": "markdown",
   "id": "6b4dd97a",
   "metadata": {},
   "source": [
    "Ans: "
   ]
  },
  {
   "cell_type": "markdown",
   "id": "a1e53e2e",
   "metadata": {},
   "source": [
    "List and String both have ordered collection or squence except list it can contain different data types."
   ]
  },
  {
   "cell_type": "markdown",
   "id": "014940bd",
   "metadata": {},
   "source": [
    "13"
   ]
  },
  {
   "cell_type": "markdown",
   "id": "2164a706",
   "metadata": {},
   "source": [
    "What's the difference between tuples and lists?"
   ]
  },
  {
   "cell_type": "markdown",
   "id": "99ef18fb",
   "metadata": {},
   "source": [
    "Ans:"
   ]
  },
  {
   "cell_type": "markdown",
   "id": "0184a05d",
   "metadata": {},
   "source": [
    "We can store the same kind of data in list and tuple but major difference is this,\n",
    "\n",
    "List is mutable entity and tuples is immutable entity. "
   ]
  },
  {
   "cell_type": "code",
   "execution_count": 8,
   "id": "63cb1221",
   "metadata": {},
   "outputs": [
    {
     "name": "stdout",
     "output_type": "stream",
     "text": [
      "['hello', 2, 3, 4, 5]\n"
     ]
    }
   ],
   "source": [
    "#list Muatable example\n",
    "l = [1,2,3,4,5]\n",
    "l[0] = \"hello\"   #-------This is call mutable entity we can update the data or element on index basis\n",
    "print(l)"
   ]
  },
  {
   "cell_type": "code",
   "execution_count": 9,
   "id": "2c6685ef",
   "metadata": {},
   "outputs": [
    {
     "ename": "TypeError",
     "evalue": "'tuple' object does not support item assignment",
     "output_type": "error",
     "traceback": [
      "\u001b[1;31m---------------------------------------------------------------------------\u001b[0m",
      "\u001b[1;31mTypeError\u001b[0m                                 Traceback (most recent call last)",
      "\u001b[1;32m<ipython-input-9-ab5299676eac>\u001b[0m in \u001b[0;36m<module>\u001b[1;34m\u001b[0m\n\u001b[0;32m      1\u001b[0m \u001b[1;31m#tuple Immuatable example\u001b[0m\u001b[1;33m\u001b[0m\u001b[1;33m\u001b[0m\u001b[1;33m\u001b[0m\u001b[0m\n\u001b[0;32m      2\u001b[0m \u001b[0mt\u001b[0m \u001b[1;33m=\u001b[0m \u001b[1;33m(\u001b[0m\u001b[1;36m1\u001b[0m\u001b[1;33m,\u001b[0m\u001b[1;36m2\u001b[0m\u001b[1;33m,\u001b[0m\u001b[1;36m3\u001b[0m\u001b[1;33m,\u001b[0m\u001b[1;36m4\u001b[0m\u001b[1;33m,\u001b[0m\u001b[1;36m5\u001b[0m\u001b[1;33m)\u001b[0m\u001b[1;33m\u001b[0m\u001b[1;33m\u001b[0m\u001b[0m\n\u001b[1;32m----> 3\u001b[1;33m \u001b[0mt\u001b[0m\u001b[1;33m[\u001b[0m\u001b[1;36m0\u001b[0m\u001b[1;33m]\u001b[0m \u001b[1;33m=\u001b[0m \u001b[1;34m\"hello\"\u001b[0m\u001b[1;33m\u001b[0m\u001b[1;33m\u001b[0m\u001b[0m\n\u001b[0m\u001b[0;32m      4\u001b[0m \u001b[0mprint\u001b[0m\u001b[1;33m(\u001b[0m\u001b[0mt\u001b[0m\u001b[1;33m)\u001b[0m\u001b[1;33m\u001b[0m\u001b[1;33m\u001b[0m\u001b[0m\n",
      "\u001b[1;31mTypeError\u001b[0m: 'tuple' object does not support item assignment"
     ]
    }
   ],
   "source": [
    "#tuple Immuatable example\n",
    "t = (1,2,3,4,5)\n",
    "t[0] = \"hello\" #---'tuple' object does not support item assignment\n",
    "print(t)"
   ]
  },
  {
   "cell_type": "markdown",
   "id": "6310664f",
   "metadata": {},
   "source": [
    "14"
   ]
  },
  {
   "cell_type": "markdown",
   "id": "3a744d8c",
   "metadata": {},
   "source": [
    "How do you type a tuple value that only contains the integer 42?"
   ]
  },
  {
   "cell_type": "markdown",
   "id": "06e82377",
   "metadata": {},
   "source": [
    "Ans : If we have single integer in that case we can give comma after the interger"
   ]
  },
  {
   "cell_type": "code",
   "execution_count": 10,
   "id": "8c82d0c7",
   "metadata": {},
   "outputs": [
    {
     "data": {
      "text/plain": [
       "tuple"
      ]
     },
     "execution_count": 10,
     "metadata": {},
     "output_type": "execute_result"
    }
   ],
   "source": [
    "t = (42,)\n",
    "type(t)"
   ]
  },
  {
   "cell_type": "markdown",
   "id": "9dc594f7",
   "metadata": {},
   "source": [
    "15"
   ]
  },
  {
   "cell_type": "markdown",
   "id": "2705dae4",
   "metadata": {},
   "source": [
    "How do you get a list value's tuple form? How do you get a tuple value's list form?"
   ]
  },
  {
   "cell_type": "markdown",
   "id": "ae74016a",
   "metadata": {},
   "source": [
    "Ans: Using typecasting we can do that "
   ]
  },
  {
   "cell_type": "code",
   "execution_count": 12,
   "id": "e4bf3296",
   "metadata": {},
   "outputs": [
    {
     "name": "stdout",
     "output_type": "stream",
     "text": [
      "[1, 2, 3, 4, 5]\n",
      "<class 'tuple'>\n",
      "(1, 2, 3, 4, 5)\n"
     ]
    }
   ],
   "source": [
    "l = [1,2,3,4,5]\n",
    "print(l)\n",
    "a = tuple(l)\n",
    "print(type(a))\n",
    "print(a)"
   ]
  },
  {
   "cell_type": "markdown",
   "id": "ffb85c4e",
   "metadata": {},
   "source": [
    "16"
   ]
  },
  {
   "cell_type": "markdown",
   "id": "996e064b",
   "metadata": {},
   "source": [
    "Variables that \"contain\" list values are not necessarily lists themselves. Instead, what do they contain?"
   ]
  },
  {
   "cell_type": "markdown",
   "id": "78d96ca5",
   "metadata": {},
   "source": [
    "Ans: it just a name reference because of list itself is a object "
   ]
  },
  {
   "cell_type": "code",
   "execution_count": 14,
   "id": "52869e6f",
   "metadata": {},
   "outputs": [
    {
     "data": {
      "text/plain": [
       "list"
      ]
     },
     "execution_count": 14,
     "metadata": {},
     "output_type": "execute_result"
    }
   ],
   "source": [
    "l = [1,2,3,4,5]\n",
    "type(l)"
   ]
  },
  {
   "cell_type": "markdown",
   "id": "9703f125",
   "metadata": {},
   "source": [
    "17"
   ]
  },
  {
   "cell_type": "markdown",
   "id": "00e9652c",
   "metadata": {},
   "source": [
    "How do you distinguish between copy.copy() and copy.deepcopy()?"
   ]
  },
  {
   "cell_type": "markdown",
   "id": "5e40e34e",
   "metadata": {},
   "source": [
    "Ans:"
   ]
  },
  {
   "cell_type": "markdown",
   "id": "bbb3dd01",
   "metadata": {},
   "source": [
    "deepcopy does not change original object if in future we change deepcopied object.\n",
    "\n",
    "where as original object changes with copy()"
   ]
  },
  {
   "cell_type": "code",
   "execution_count": null,
   "id": "b68ef872",
   "metadata": {},
   "outputs": [],
   "source": []
  }
 ],
 "metadata": {
  "kernelspec": {
   "display_name": "Python 3",
   "language": "python",
   "name": "python3"
  },
  "language_info": {
   "codemirror_mode": {
    "name": "ipython",
    "version": 3
   },
   "file_extension": ".py",
   "mimetype": "text/x-python",
   "name": "python",
   "nbconvert_exporter": "python",
   "pygments_lexer": "ipython3",
   "version": "3.8.8"
  }
 },
 "nbformat": 4,
 "nbformat_minor": 5
}
