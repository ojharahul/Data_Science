{
 "cells": [
  {
   "cell_type": "markdown",
   "id": "ccff966a",
   "metadata": {},
   "source": [
    "# Assignment_03"
   ]
  },
  {
   "cell_type": "markdown",
   "id": "07c2c74b",
   "metadata": {},
   "source": [
    "01"
   ]
  },
  {
   "cell_type": "markdown",
   "id": "fd713a3c",
   "metadata": {},
   "source": [
    " Why are functions advantageous to have in your programs?"
   ]
  },
  {
   "cell_type": "markdown",
   "id": "6c6235a6",
   "metadata": {},
   "source": [
    "Ans:\n",
    "\n",
    "1 - Increase Code Reuseablity\n",
    "\n",
    "2 - Increase Modularity\n",
    "\n",
    "3 - Decomposing complex problem into simpler pieces \n",
    "\n",
    "4 - Improving clarity of code"
   ]
  },
  {
   "cell_type": "markdown",
   "id": "732c3152",
   "metadata": {},
   "source": [
    "02"
   ]
  },
  {
   "cell_type": "markdown",
   "id": "b51d02ab",
   "metadata": {},
   "source": [
    "When does the code in a function run: when it's specified or when it's called?"
   ]
  },
  {
   "cell_type": "markdown",
   "id": "56426af4",
   "metadata": {},
   "source": [
    "Ans: When we call function then inside in function whatever code is written line by line excute"
   ]
  },
  {
   "cell_type": "markdown",
   "id": "79f4381c",
   "metadata": {},
   "source": [
    "03"
   ]
  },
  {
   "cell_type": "markdown",
   "id": "29ae0647",
   "metadata": {},
   "source": [
    "What statement creates a function?"
   ]
  },
  {
   "cell_type": "markdown",
   "id": "3c5188c4",
   "metadata": {},
   "source": [
    "Ans : \n",
    "    \n",
    "When we have to create function there is reserved keyword called 'def' using this keyword,\n",
    "\n",
    "then gives function name and remaining code.\n",
    "\n",
    "syntax : def test():  -----------  test is the function name and then parenthesis() and colon.\n",
    "         \n",
    "         pass\n",
    "\n"
   ]
  },
  {
   "cell_type": "markdown",
   "id": "d7df6cb0",
   "metadata": {},
   "source": [
    "04"
   ]
  },
  {
   "cell_type": "markdown",
   "id": "4491eaf5",
   "metadata": {},
   "source": [
    "What is the difference between a function and a function call?"
   ]
  },
  {
   "cell_type": "markdown",
   "id": "07f49b31",
   "metadata": {},
   "source": [
    "Ans: \n",
    "    \n",
    "Function : function have set of code which is run(excute) line by line. function is useless untill it is called.\n",
    "\n",
    "Function Call : When we call function it has set of code inside which is excute line by line. \n",
    "    "
   ]
  },
  {
   "cell_type": "code",
   "execution_count": 7,
   "id": "31e9e439",
   "metadata": {},
   "outputs": [],
   "source": [
    "def function():   #--------This is a function\n",
    "    print(\"this is the function\")"
   ]
  },
  {
   "cell_type": "code",
   "execution_count": 6,
   "id": "15a37157",
   "metadata": {},
   "outputs": [
    {
     "name": "stdout",
     "output_type": "stream",
     "text": [
      "this is the function\n"
     ]
    }
   ],
   "source": [
    "function()       #--------function is called"
   ]
  },
  {
   "cell_type": "markdown",
   "id": "b15a8dc1",
   "metadata": {},
   "source": [
    "05"
   ]
  },
  {
   "cell_type": "markdown",
   "id": "a9b58757",
   "metadata": {},
   "source": [
    "How many global scopes are there in a Python program? How many local scopes?"
   ]
  },
  {
   "cell_type": "markdown",
   "id": "daf94f05",
   "metadata": {},
   "source": [
    "Ans:\n",
    "    \n",
    "There is one globle scope variable and one local scope variable"
   ]
  },
  {
   "cell_type": "markdown",
   "id": "a1e43805",
   "metadata": {},
   "source": [
    "06"
   ]
  },
  {
   "cell_type": "markdown",
   "id": "6ed5e21b",
   "metadata": {},
   "source": [
    "What happens to variables in a local scope when the function call returns?"
   ]
  },
  {
   "cell_type": "markdown",
   "id": "54166a9c",
   "metadata": {},
   "source": [
    "Ans: \n",
    "    \n",
    "When we call function and after run(excution) local variable get destroyed.Below is the example."
   ]
  },
  {
   "cell_type": "code",
   "execution_count": 15,
   "id": "9c812597",
   "metadata": {},
   "outputs": [
    {
     "data": {
      "text/plain": [
       "50"
      ]
     },
     "execution_count": 15,
     "metadata": {},
     "output_type": "execute_result"
    }
   ],
   "source": [
    "def fun():\n",
    "    a = 10*5\n",
    "    return a\n",
    "\n",
    "fun()"
   ]
  },
  {
   "cell_type": "code",
   "execution_count": 16,
   "id": "956755f4",
   "metadata": {},
   "outputs": [
    {
     "ename": "NameError",
     "evalue": "name 'a' is not defined",
     "output_type": "error",
     "traceback": [
      "\u001b[1;31m---------------------------------------------------------------------------\u001b[0m",
      "\u001b[1;31mNameError\u001b[0m                                 Traceback (most recent call last)",
      "\u001b[1;32m<ipython-input-16-f9b8a49a404b>\u001b[0m in \u001b[0;36m<module>\u001b[1;34m\u001b[0m\n\u001b[1;32m----> 1\u001b[1;33m \u001b[0ma\u001b[0m  \u001b[1;31m#------WHen we call a there is Name error occured.\u001b[0m\u001b[1;33m\u001b[0m\u001b[1;33m\u001b[0m\u001b[0m\n\u001b[0m",
      "\u001b[1;31mNameError\u001b[0m: name 'a' is not defined"
     ]
    }
   ],
   "source": [
    "a  #------WHen we call a there is Name error occured."
   ]
  },
  {
   "cell_type": "markdown",
   "id": "f54cf5c8",
   "metadata": {},
   "source": [
    "07"
   ]
  },
  {
   "cell_type": "markdown",
   "id": "cbad266f",
   "metadata": {},
   "source": [
    "What is the concept of a return value? Is it possible to have a return value in an expression?"
   ]
  },
  {
   "cell_type": "markdown",
   "id": "3f083719",
   "metadata": {},
   "source": [
    "Ans :"
   ]
  },
  {
   "cell_type": "markdown",
   "id": "8eb766a2",
   "metadata": {},
   "source": [
    "Return value means return something based on whatever written inside the function and condition.\n",
    "\n",
    "it can be value , expression , statement and function also"
   ]
  },
  {
   "cell_type": "code",
   "execution_count": 17,
   "id": "e5619df4",
   "metadata": {},
   "outputs": [
    {
     "data": {
      "text/plain": [
       "15"
      ]
     },
     "execution_count": 17,
     "metadata": {},
     "output_type": "execute_result"
    }
   ],
   "source": [
    "#e.g\n",
    "def test(a,b,c):\n",
    "    return a + b +c     #--------this is the return expresssion based on what condition mention in the code\n",
    "\n",
    "test(4,5,6)"
   ]
  },
  {
   "cell_type": "markdown",
   "id": "75a81237",
   "metadata": {},
   "source": [
    "08"
   ]
  },
  {
   "cell_type": "markdown",
   "id": "92abbc37",
   "metadata": {},
   "source": [
    "If a function does not have a return statement, what is the return value of a call to that function?"
   ]
  },
  {
   "cell_type": "markdown",
   "id": "34a536da",
   "metadata": {},
   "source": [
    "Ans :"
   ]
  },
  {
   "cell_type": "markdown",
   "id": "36073148",
   "metadata": {},
   "source": [
    "If function does not have any return statement in that case function is not return any value or any type of expression.\n",
    "\n",
    "We use pass keyword for creating a functio but it will not give any value or expression.\n",
    "\n",
    "it return NoneType "
   ]
  },
  {
   "cell_type": "code",
   "execution_count": 25,
   "id": "8e38dd36",
   "metadata": {},
   "outputs": [],
   "source": [
    "def test2():\n",
    "    pass\n",
    "    "
   ]
  },
  {
   "cell_type": "code",
   "execution_count": 26,
   "id": "a71cf3a2",
   "metadata": {},
   "outputs": [
    {
     "data": {
      "text/plain": [
       "NoneType"
      ]
     },
     "execution_count": 26,
     "metadata": {},
     "output_type": "execute_result"
    }
   ],
   "source": [
    "type(test2())"
   ]
  },
  {
   "cell_type": "markdown",
   "id": "a46c9672",
   "metadata": {},
   "source": [
    "09"
   ]
  },
  {
   "cell_type": "markdown",
   "id": "51a43bd8",
   "metadata": {},
   "source": [
    "How do you make a function variable refer to the global variable?"
   ]
  },
  {
   "cell_type": "markdown",
   "id": "02a4b0f3",
   "metadata": {},
   "source": [
    "Ans:"
   ]
  },
  {
   "cell_type": "markdown",
   "id": "bb4db3f2",
   "metadata": {},
   "source": [
    "If we want to refer to a global variable in a function, \n",
    "\n",
    "we can use the global keyword to declare which variables are global."
   ]
  },
  {
   "cell_type": "code",
   "execution_count": 40,
   "id": "ea08bc74",
   "metadata": {},
   "outputs": [
    {
     "name": "stdout",
     "output_type": "stream",
     "text": [
      "0\n",
      "100\n"
     ]
    }
   ],
   "source": [
    "a = 0   #-------Global variable\n",
    "\n",
    "def test4():\n",
    "    global a    # ------Use global keyword for making local variabl to global\n",
    "    a = 100\n",
    "    return a\n",
    "    \n",
    "    \n",
    "print(a)\n",
    "test4()\n",
    "print(a)"
   ]
  },
  {
   "cell_type": "code",
   "execution_count": 41,
   "id": "8d06c678",
   "metadata": {},
   "outputs": [
    {
     "name": "stdout",
     "output_type": "stream",
     "text": [
      "100\n"
     ]
    }
   ],
   "source": [
    "print(a)"
   ]
  },
  {
   "cell_type": "markdown",
   "id": "17a77201",
   "metadata": {},
   "source": [
    "10"
   ]
  },
  {
   "cell_type": "markdown",
   "id": "c3af7478",
   "metadata": {},
   "source": [
    "What is the data type of None?"
   ]
  },
  {
   "cell_type": "markdown",
   "id": "da9bdcc8",
   "metadata": {},
   "source": [
    "Ans: \n",
    "    \n",
    "None is used to define a null value. It is not the same as an empty string, False, or a zero. \n",
    "\n",
    "It is a data type of the class NoneType object. "
   ]
  },
  {
   "cell_type": "code",
   "execution_count": 44,
   "id": "27e10e84",
   "metadata": {},
   "outputs": [
    {
     "name": "stdout",
     "output_type": "stream",
     "text": [
      "Print is None_data_type\n",
      "\n"
     ]
    },
    {
     "data": {
      "text/plain": [
       "NoneType"
      ]
     },
     "execution_count": 44,
     "metadata": {},
     "output_type": "execute_result"
    }
   ],
   "source": [
    "#E.g\n",
    "\n",
    "print(\"Print is None_data_type\")\n",
    "type(print())"
   ]
  },
  {
   "cell_type": "markdown",
   "id": "d0a247c0",
   "metadata": {},
   "source": [
    "11 "
   ]
  },
  {
   "cell_type": "markdown",
   "id": "fb384f1f",
   "metadata": {},
   "source": [
    "What does the sentence import areallyourpetsnamederic do?"
   ]
  },
  {
   "cell_type": "markdown",
   "id": "0c18a191",
   "metadata": {},
   "source": [
    "The sentence means \"import areallyourpetsnamederic\" will import the module or package areallyourpetsnamederic."
   ]
  },
  {
   "cell_type": "markdown",
   "id": "56e3e639",
   "metadata": {},
   "source": [
    "12"
   ]
  },
  {
   "cell_type": "markdown",
   "id": "ac7a8adc",
   "metadata": {},
   "source": [
    "If you had a bacon() feature in a spam module, what would you call it after importing spam?"
   ]
  },
  {
   "cell_type": "markdown",
   "id": "91716aff",
   "metadata": {},
   "source": [
    "Ans:"
   ]
  },
  {
   "cell_type": "code",
   "execution_count": 46,
   "id": "cd21dec1",
   "metadata": {},
   "outputs": [],
   "source": [
    "#import spam\n",
    "#spam.bacon()"
   ]
  },
  {
   "cell_type": "markdown",
   "id": "cc7c6c83",
   "metadata": {},
   "source": [
    "13"
   ]
  },
  {
   "cell_type": "markdown",
   "id": "bae48b22",
   "metadata": {},
   "source": [
    "What can you do to save a programme from crashing if it encounters an error?"
   ]
  },
  {
   "cell_type": "markdown",
   "id": "9d77f715",
   "metadata": {},
   "source": [
    "Ans :\n",
    "    \n",
    "To save a programe from crashing we use Try and Except method but it only save programe in \n",
    "\n",
    "runtime not a compile time\n"
   ]
  },
  {
   "cell_type": "code",
   "execution_count": 49,
   "id": "22342996",
   "metadata": {},
   "outputs": [],
   "source": [
    "# Basic Syntax of try and except \n",
    "try:\n",
    "    pass\n",
    "except :\n",
    "    pass"
   ]
  },
  {
   "cell_type": "markdown",
   "id": "6e24c928",
   "metadata": {},
   "source": [
    "14"
   ]
  },
  {
   "cell_type": "markdown",
   "id": "0182d771",
   "metadata": {},
   "source": [
    " What is the purpose of the try clause? What is the purpose of the except clause?"
   ]
  },
  {
   "cell_type": "markdown",
   "id": "d7e2acc0",
   "metadata": {},
   "source": [
    "Ans : Both try and except save the programe from crashing in the runtime\n",
    "    \n",
    "try : If we encounter any suspicious  code we put in try so if anything happen in run time it can pass through except block\n",
    "\n",
    "except : If inside try block code is throwing error except block handle the error "
   ]
  },
  {
   "cell_type": "code",
   "execution_count": null,
   "id": "bbf57ed8",
   "metadata": {},
   "outputs": [],
   "source": []
  }
 ],
 "metadata": {
  "kernelspec": {
   "display_name": "Python 3",
   "language": "python",
   "name": "python3"
  },
  "language_info": {
   "codemirror_mode": {
    "name": "ipython",
    "version": 3
   },
   "file_extension": ".py",
   "mimetype": "text/x-python",
   "name": "python",
   "nbconvert_exporter": "python",
   "pygments_lexer": "ipython3",
   "version": "3.8.8"
  }
 },
 "nbformat": 4,
 "nbformat_minor": 5
}
