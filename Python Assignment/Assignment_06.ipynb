{
 "cells": [
  {
   "cell_type": "markdown",
   "id": "ca901156",
   "metadata": {},
   "source": [
    "Assignment_06"
   ]
  },
  {
   "cell_type": "markdown",
   "id": "ae05ee2e",
   "metadata": {},
   "source": [
    "01"
   ]
  },
  {
   "cell_type": "markdown",
   "id": "67494eb8",
   "metadata": {},
   "source": [
    "What are escape characters, and how do you use them?"
   ]
  },
  {
   "cell_type": "markdown",
   "id": "76ca657c",
   "metadata": {},
   "source": [
    "Ans :\n",
    "\n",
    "                                                                                                                                Escape characters are characters that are generally used to perform certain tasks and their usage in code directs the      \n",
    "     \n",
    "     compiler to take a suitable action based on that character.Like \\t , \\n , \\r\n",
    "     \n",
    "     backlash '\\' is a special case character."
   ]
  },
  {
   "cell_type": "code",
   "execution_count": 13,
   "id": "c6858ed9",
   "metadata": {},
   "outputs": [
    {
     "name": "stdout",
     "output_type": "stream",
     "text": [
      "hello my name is \t rahul ojha\n",
      "hello\n",
      "my name is\n",
      "rahul ojha\n",
      "hello my name is\r",
      " rahul ojha\n"
     ]
    }
   ],
   "source": [
    "#E.g\n",
    "print(\"hello my name is \\t rahul ojha\")  #------give tap after \\t\n",
    "\n",
    "print('hello\\nmy name is\\nrahul ojha')   #------afer \\n print in the next line\n",
    "\n",
    "print(\"hello my name is\\r rahul ojha\")  #-------after \\r carriage return"
   ]
  },
  {
   "cell_type": "markdown",
   "id": "8611cc59",
   "metadata": {},
   "source": [
    "02"
   ]
  },
  {
   "cell_type": "markdown",
   "id": "2b0e13bb",
   "metadata": {},
   "source": [
    "What do the escape characters n and t stand for?"
   ]
  },
  {
   "cell_type": "markdown",
   "id": "893d1941",
   "metadata": {},
   "source": [
    "Ans:\n",
    "\n",
    "'\\n' gives new line\n",
    "\n",
    "'\\t' gives whitespaces"
   ]
  },
  {
   "cell_type": "code",
   "execution_count": 14,
   "id": "91c5de73",
   "metadata": {},
   "outputs": [
    {
     "name": "stdout",
     "output_type": "stream",
     "text": [
      "hello my name is \t rahul ojha\n"
     ]
    }
   ],
   "source": [
    "print(\"hello my name is \\t rahul ojha\")  #------give tap after \\t"
   ]
  },
  {
   "cell_type": "code",
   "execution_count": 15,
   "id": "502405e8",
   "metadata": {},
   "outputs": [
    {
     "name": "stdout",
     "output_type": "stream",
     "text": [
      "hello\n",
      "my name is\n",
      "rahul ojha\n"
     ]
    }
   ],
   "source": [
    "print('hello\\nmy name is\\nrahul ojha')   #------afer \\n print in the next line"
   ]
  },
  {
   "cell_type": "markdown",
   "id": "82698d5e",
   "metadata": {},
   "source": [
    "03"
   ]
  },
  {
   "cell_type": "markdown",
   "id": "8ea213cb",
   "metadata": {},
   "source": [
    "What is the way to include backslash characters in a string?"
   ]
  },
  {
   "cell_type": "markdown",
   "id": "2bf21096",
   "metadata": {},
   "source": [
    "Ans: "
   ]
  },
  {
   "cell_type": "code",
   "execution_count": 17,
   "id": "2413bd66",
   "metadata": {},
   "outputs": [
    {
     "name": "stdout",
     "output_type": "stream",
     "text": [
      "Ineuron is placed where you learn: \tdata science\tAI\tRobotics\tbuild you skill\n"
     ]
    }
   ],
   "source": [
    "#E.g\n",
    "\n",
    "print(\"Ineuron is placed where you learn: \\tdata science\\tAI\\tRobotics\\tbuild you skill\")"
   ]
  },
  {
   "cell_type": "markdown",
   "id": "f5052469",
   "metadata": {},
   "source": [
    "04"
   ]
  },
  {
   "cell_type": "markdown",
   "id": "f3171e5f",
   "metadata": {},
   "source": [
    "The string \"Howl's Moving Castle\" is a correct value. \n",
    "\n",
    "Why isn't the single quote character in the word Howl's not escaped a problem?"
   ]
  },
  {
   "cell_type": "markdown",
   "id": "e0842a39",
   "metadata": {},
   "source": [
    "Ans:"
   ]
  },
  {
   "cell_type": "markdown",
   "id": "0593e56a",
   "metadata": {},
   "source": [
    "Becasue in string we can use (single or double or tripple) quote but inside double quote we can use single qupote\n",
    "\n",
    "\n",
    "as well as in Single quote we use double quote ."
   ]
  },
  {
   "cell_type": "code",
   "execution_count": 19,
   "id": "4b6c86c2",
   "metadata": {},
   "outputs": [
    {
     "data": {
      "text/plain": [
       "\"Howl's Moving Castle\""
      ]
     },
     "execution_count": 19,
     "metadata": {},
     "output_type": "execute_result"
    }
   ],
   "source": [
    "\"Howl's Moving Castle\" #------like that inside double quote there is single quote available"
   ]
  },
  {
   "cell_type": "markdown",
   "id": "cabffa94",
   "metadata": {},
   "source": [
    "05"
   ]
  },
  {
   "cell_type": "markdown",
   "id": "697f1576",
   "metadata": {},
   "source": [
    "How do you write a string of newlines if you don't want to use the n character?"
   ]
  },
  {
   "cell_type": "markdown",
   "id": "4ef61574",
   "metadata": {},
   "source": [
    "Ans: "
   ]
  },
  {
   "cell_type": "code",
   "execution_count": 29,
   "id": "d00a8b71",
   "metadata": {},
   "outputs": [
    {
     "name": "stdout",
     "output_type": "stream",
     "text": [
      "world\n",
      "okay\n"
     ]
    }
   ],
   "source": [
    "# The default functionality of  print funtion is that it adds a newline character at the end.\n",
    "print(\"world\")\n",
    "print(\"okay\")"
   ]
  },
  {
   "cell_type": "markdown",
   "id": "01dc3662",
   "metadata": {},
   "source": [
    "06"
   ]
  },
  {
   "cell_type": "markdown",
   "id": "a0bebd50",
   "metadata": {},
   "source": [
    "What are the values of the given expressions?\n",
    "\n",
    "'Hello, world!'[1]\n",
    "\n",
    "'Hello, world!'[0:5]\n",
    "\n",
    "'Hello, world!'[:5]\n",
    "\n",
    "'Hello, world!'[3:]"
   ]
  },
  {
   "cell_type": "markdown",
   "id": "4768e532",
   "metadata": {},
   "source": [
    "Ans :"
   ]
  },
  {
   "cell_type": "code",
   "execution_count": 36,
   "id": "961bfba4",
   "metadata": {},
   "outputs": [
    {
     "name": "stdout",
     "output_type": "stream",
     "text": [
      "e\n",
      "Hello\n",
      "Hello\n",
      "lo, world!\n"
     ]
    }
   ],
   "source": [
    "a = 'Hello, world!'[1]   #it is called indexing operation extract the element based on index wise\n",
    "print(a)\n",
    "b = 'Hello, world!'[0:5]  #----exclude the upper bound which is 5 \n",
    "print(b)\n",
    "c = 'Hello, world!'[:5]   # ---start with 0 by default\n",
    "print(c)\n",
    "d = 'Hello, world!'[3:]  # starting point is index 3\n",
    "print(d)"
   ]
  },
  {
   "cell_type": "markdown",
   "id": "eeca6b11",
   "metadata": {},
   "source": [
    "07"
   ]
  },
  {
   "cell_type": "markdown",
   "id": "64ba0891",
   "metadata": {},
   "source": [
    " What are the values of the following expressions?\n",
    "    \n",
    "'Hello'.upper()\n",
    "\n",
    "'Hello'.upper().isupper()\n",
    "\n",
    "'Hello'.upper().lower()"
   ]
  },
  {
   "cell_type": "markdown",
   "id": "157cf9e9",
   "metadata": {},
   "source": [
    "Ans :"
   ]
  },
  {
   "cell_type": "code",
   "execution_count": 39,
   "id": "609eac8c",
   "metadata": {},
   "outputs": [
    {
     "name": "stdout",
     "output_type": "stream",
     "text": [
      "HELLO\n",
      "True\n",
      "hello\n"
     ]
    }
   ],
   "source": [
    "a  ='Hello'.upper()  #---------.upper is use for create all string in Upper  Case.\n",
    "print(a)\n",
    "b  = a.isupper()     #---------.isupper check wheather string is in upper case or not based on that it gives True & False.\n",
    "print(b)\n",
    "c = a.lower()        #---------.lower() is use for crate all string in lower case.\n",
    "print(c)"
   ]
  },
  {
   "cell_type": "markdown",
   "id": "8166f966",
   "metadata": {},
   "source": [
    "08"
   ]
  },
  {
   "cell_type": "markdown",
   "id": "51fc7431",
   "metadata": {},
   "source": [
    "What are the values of the following expressions?\n",
    "\n",
    "'Remember, remember, the fifth of July.'.split()\n",
    "\n",
    "'-'.join('There can only one.'.split())"
   ]
  },
  {
   "cell_type": "markdown",
   "id": "e89a902f",
   "metadata": {},
   "source": [
    "Ans:"
   ]
  },
  {
   "cell_type": "code",
   "execution_count": 42,
   "id": "3b2595f4",
   "metadata": {},
   "outputs": [
    {
     "data": {
      "text/plain": [
       "['Remember,', 'remember,', 'the', 'fifth', 'of', 'July.']"
      ]
     },
     "execution_count": 42,
     "metadata": {},
     "output_type": "execute_result"
    }
   ],
   "source": [
    "'Remember, remember, the fifth of July.'.split()  #------split function gives list of word in the string"
   ]
  },
  {
   "cell_type": "code",
   "execution_count": 50,
   "id": "46280133",
   "metadata": {},
   "outputs": [
    {
     "data": {
      "text/plain": [
       "'There-can-only-one.'"
      ]
     },
     "execution_count": 50,
     "metadata": {},
     "output_type": "execute_result"
    }
   ],
   "source": [
    "'-'.join('There can only one.'.split())  #--------.join() function replace comma with '-' "
   ]
  },
  {
   "cell_type": "code",
   "execution_count": 48,
   "id": "23e5f35a",
   "metadata": {},
   "outputs": [
    {
     "data": {
      "text/plain": [
       "['There', 'can', 'only', 'one']"
      ]
     },
     "execution_count": 48,
     "metadata": {},
     "output_type": "execute_result"
    }
   ],
   "source": [
    "#Step-1 How this operation work\n",
    "'There can only one'.split()"
   ]
  },
  {
   "cell_type": "code",
   "execution_count": 49,
   "id": "851d202b",
   "metadata": {},
   "outputs": [
    {
     "data": {
      "text/plain": [
       "'There-can-only-one'"
      ]
     },
     "execution_count": 49,
     "metadata": {},
     "output_type": "execute_result"
    }
   ],
   "source": [
    "#Step 2\n",
    "'-'.join(['There', 'can', 'only', 'one'])"
   ]
  },
  {
   "cell_type": "markdown",
   "id": "3b2becba",
   "metadata": {},
   "source": [
    "09"
   ]
  },
  {
   "cell_type": "markdown",
   "id": "e26cb990",
   "metadata": {},
   "source": [
    "What are the methods for right-justifying, left-justifying, and centering a string?\n"
   ]
  },
  {
   "cell_type": "markdown",
   "id": "7d42c55d",
   "metadata": {},
   "source": [
    "Ans :"
   ]
  },
  {
   "cell_type": "markdown",
   "id": "5b633df8",
   "metadata": {},
   "source": [
    "1- rjust()\n",
    "\n",
    "2- ljust()\n",
    "\n",
    "3- center()"
   ]
  },
  {
   "cell_type": "code",
   "execution_count": 70,
   "id": "4510e5ff",
   "metadata": {},
   "outputs": [
    {
     "data": {
      "text/plain": [
       "'                            hello this is my name '"
      ]
     },
     "execution_count": 70,
     "metadata": {},
     "output_type": "execute_result"
    }
   ],
   "source": [
    "#1- rjust()         Return a right-justified string of length width here 50 is the width\n",
    "a = \"hello this is my name \"\n",
    "a.rjust(50)"
   ]
  },
  {
   "cell_type": "code",
   "execution_count": 71,
   "id": "a2805329",
   "metadata": {},
   "outputs": [
    {
     "data": {
      "text/plain": [
       "'hello this is my name                                       '"
      ]
     },
     "execution_count": 71,
     "metadata": {},
     "output_type": "execute_result"
    }
   ],
   "source": [
    "#2- ljust()      Return a left-justified string of length width here 60 is the width\n",
    "a.ljust(60)"
   ]
  },
  {
   "cell_type": "code",
   "execution_count": 72,
   "id": "2b408737",
   "metadata": {},
   "outputs": [
    {
     "data": {
      "text/plain": [
       "'##############hello this is my name ##############'"
      ]
     },
     "execution_count": 72,
     "metadata": {},
     "output_type": "execute_result"
    }
   ],
   "source": [
    "#3- center()  Return a centered string of length width with fill character.Here 50 is the width and # is fill character\n",
    "a.center(50,'#')"
   ]
  },
  {
   "cell_type": "markdown",
   "id": "dc09f249",
   "metadata": {},
   "source": [
    "10"
   ]
  },
  {
   "cell_type": "markdown",
   "id": "48a9b5c0",
   "metadata": {},
   "source": [
    "What is the best way to remove whitespace characters from the start or end?"
   ]
  },
  {
   "cell_type": "markdown",
   "id": "421ab0a1",
   "metadata": {},
   "source": [
    "Ans:"
   ]
  },
  {
   "cell_type": "code",
   "execution_count": null,
   "id": "f236473d",
   "metadata": {},
   "outputs": [],
   "source": [
    "a = \"   hello   Ineuron Team  \"\n",
    "a.replace(\" \")"
   ]
  }
 ],
 "metadata": {
  "kernelspec": {
   "display_name": "Python 3",
   "language": "python",
   "name": "python3"
  },
  "language_info": {
   "codemirror_mode": {
    "name": "ipython",
    "version": 3
   },
   "file_extension": ".py",
   "mimetype": "text/x-python",
   "name": "python",
   "nbconvert_exporter": "python",
   "pygments_lexer": "ipython3",
   "version": "3.8.8"
  }
 },
 "nbformat": 4,
 "nbformat_minor": 5
}
