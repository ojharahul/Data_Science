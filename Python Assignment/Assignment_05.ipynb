{
 "cells": [
  {
   "cell_type": "markdown",
   "id": "429857a8",
   "metadata": {},
   "source": [
    "Assignment_05"
   ]
  },
  {
   "cell_type": "markdown",
   "id": "aef658cd",
   "metadata": {},
   "source": [
    "01"
   ]
  },
  {
   "cell_type": "markdown",
   "id": "a596a5fb",
   "metadata": {},
   "source": [
    "What does an empty dictionary's code look like?"
   ]
  },
  {
   "cell_type": "markdown",
   "id": "e86a406b",
   "metadata": {},
   "source": [
    "Ans:"
   ]
  },
  {
   "cell_type": "code",
   "execution_count": 1,
   "id": "b324ce20",
   "metadata": {},
   "outputs": [
    {
     "data": {
      "text/plain": [
       "dict"
      ]
     },
     "execution_count": 1,
     "metadata": {},
     "output_type": "execute_result"
    }
   ],
   "source": [
    "d = {}\n",
    "type(d)"
   ]
  },
  {
   "cell_type": "markdown",
   "id": "44a8115a",
   "metadata": {},
   "source": [
    "02"
   ]
  },
  {
   "cell_type": "markdown",
   "id": "782ceacf",
   "metadata": {},
   "source": [
    "What is the value of a dictionary value with the key 'foo' and the value 42?"
   ]
  },
  {
   "cell_type": "markdown",
   "id": "ddcf8631",
   "metadata": {},
   "source": [
    "Ans:"
   ]
  },
  {
   "cell_type": "code",
   "execution_count": 6,
   "id": "13d48c33",
   "metadata": {},
   "outputs": [
    {
     "data": {
      "text/plain": [
       "{'foo': 42}"
      ]
     },
     "execution_count": 6,
     "metadata": {},
     "output_type": "execute_result"
    }
   ],
   "source": [
    "d = {\"foo\": 42}\n",
    "d"
   ]
  },
  {
   "cell_type": "code",
   "execution_count": 7,
   "id": "8937104b",
   "metadata": {},
   "outputs": [
    {
     "data": {
      "text/plain": [
       "dict_values([42])"
      ]
     },
     "execution_count": 7,
     "metadata": {},
     "output_type": "execute_result"
    }
   ],
   "source": [
    "d.values()"
   ]
  },
  {
   "cell_type": "markdown",
   "id": "0415669a",
   "metadata": {},
   "source": [
    "03"
   ]
  },
  {
   "cell_type": "markdown",
   "id": "327a7091",
   "metadata": {},
   "source": [
    "What is the most significant distinction between a dictionary and a list?"
   ]
  },
  {
   "cell_type": "markdown",
   "id": "dcdb4d4b",
   "metadata": {},
   "source": [
    "Ans:"
   ]
  },
  {
   "cell_type": "markdown",
   "id": "5a299fd0",
   "metadata": {},
   "source": [
    "Dictionary store the date in the key-value pair and list store data individual element wise."
   ]
  },
  {
   "cell_type": "markdown",
   "id": "b07cf651",
   "metadata": {},
   "source": [
    "04"
   ]
  },
  {
   "cell_type": "markdown",
   "id": "3c3b1d44",
   "metadata": {},
   "source": [
    "What happens if you try to access spam['foo'] if spam is {'bar': 100}?"
   ]
  },
  {
   "cell_type": "markdown",
   "id": "caafae2f",
   "metadata": {},
   "source": [
    "Ans: Get an keyerror becasue 'foo' key not available in present dictionary(spam)"
   ]
  },
  {
   "cell_type": "code",
   "execution_count": 8,
   "id": "eaca4218",
   "metadata": {},
   "outputs": [
    {
     "ename": "KeyError",
     "evalue": "'foo'",
     "output_type": "error",
     "traceback": [
      "\u001b[1;31m---------------------------------------------------------------------------\u001b[0m",
      "\u001b[1;31mKeyError\u001b[0m                                  Traceback (most recent call last)",
      "\u001b[1;32m<ipython-input-8-cea1cd791e68>\u001b[0m in \u001b[0;36m<module>\u001b[1;34m\u001b[0m\n\u001b[0;32m      1\u001b[0m \u001b[0mspam\u001b[0m \u001b[1;33m=\u001b[0m \u001b[1;33m{\u001b[0m\u001b[1;34m'bar'\u001b[0m\u001b[1;33m:\u001b[0m\u001b[1;36m100\u001b[0m\u001b[1;33m}\u001b[0m\u001b[1;33m\u001b[0m\u001b[1;33m\u001b[0m\u001b[0m\n\u001b[1;32m----> 2\u001b[1;33m \u001b[0mspam\u001b[0m\u001b[1;33m[\u001b[0m\u001b[1;34m'foo'\u001b[0m\u001b[1;33m]\u001b[0m\u001b[1;33m\u001b[0m\u001b[1;33m\u001b[0m\u001b[0m\n\u001b[0m",
      "\u001b[1;31mKeyError\u001b[0m: 'foo'"
     ]
    }
   ],
   "source": [
    "spam = {'bar':100}\n",
    "spam['foo']"
   ]
  },
  {
   "cell_type": "markdown",
   "id": "0cdb6d20",
   "metadata": {},
   "source": [
    "05"
   ]
  },
  {
   "cell_type": "markdown",
   "id": "ec653f24",
   "metadata": {},
   "source": [
    "If a dictionary is stored in spam, what is the difference between the expressions 'cat' in spam \n",
    "\n",
    "and 'cat' in spam.keys()?"
   ]
  },
  {
   "cell_type": "markdown",
   "id": "b6b4b080",
   "metadata": {},
   "source": [
    "Ans: \n",
    "    \n",
    "It check wheather 'cat' keys present in the dictionary as a keys."
   ]
  },
  {
   "cell_type": "markdown",
   "id": "7180dc85",
   "metadata": {},
   "source": [
    "06"
   ]
  },
  {
   "cell_type": "markdown",
   "id": "bbdd1f49",
   "metadata": {},
   "source": [
    "If a dictionary is stored in spam, what is the difference between the expressions\n",
    "\n",
    "'cat' in spam and 'cat' in spam.values()?"
   ]
  },
  {
   "cell_type": "markdown",
   "id": "cf167f4d",
   "metadata": {},
   "source": [
    "Ans: \n",
    "    \n",
    "it check wheather 'cat' values present in the dictionary as a value"
   ]
  },
  {
   "cell_type": "markdown",
   "id": "d5b5e6ce",
   "metadata": {},
   "source": [
    "07"
   ]
  },
  {
   "cell_type": "markdown",
   "id": "944c930d",
   "metadata": {},
   "source": [
    "What is a shortcut for the following code?\n",
    "\n",
    "if 'color' not in spam:\n",
    "\n",
    "spam['color'] = 'black'"
   ]
  },
  {
   "cell_type": "code",
   "execution_count": 9,
   "id": "7b6cdce0",
   "metadata": {},
   "outputs": [
    {
     "data": {
      "text/plain": [
       "'black'"
      ]
     },
     "execution_count": 9,
     "metadata": {},
     "output_type": "execute_result"
    }
   ],
   "source": [
    "spam.setdefault('color','black')"
   ]
  },
  {
   "cell_type": "markdown",
   "id": "096c4af7",
   "metadata": {},
   "source": [
    "08"
   ]
  },
  {
   "cell_type": "markdown",
   "id": "7127702f",
   "metadata": {},
   "source": [
    "How do you \"pretty print\" dictionary values using which module and function?"
   ]
  },
  {
   "cell_type": "markdown",
   "id": "8ead135b",
   "metadata": {},
   "source": [
    "Ans: Pretty Print a dictionary with dictionary value"
   ]
  },
  {
   "cell_type": "code",
   "execution_count": 11,
   "id": "9ca183e7",
   "metadata": {},
   "outputs": [],
   "source": [
    "#import pprint\n",
    "#pprint.pprint()"
   ]
  },
  {
   "cell_type": "code",
   "execution_count": null,
   "id": "93cb6afe",
   "metadata": {},
   "outputs": [],
   "source": []
  }
 ],
 "metadata": {
  "kernelspec": {
   "display_name": "Python 3",
   "language": "python",
   "name": "python3"
  },
  "language_info": {
   "codemirror_mode": {
    "name": "ipython",
    "version": 3
   },
   "file_extension": ".py",
   "mimetype": "text/x-python",
   "name": "python",
   "nbconvert_exporter": "python",
   "pygments_lexer": "ipython3",
   "version": "3.8.8"
  }
 },
 "nbformat": 4,
 "nbformat_minor": 5
}
