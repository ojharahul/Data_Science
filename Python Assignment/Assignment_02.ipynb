{
 "cells": [
  {
   "cell_type": "markdown",
   "id": "2f0a22d6",
   "metadata": {},
   "source": [
    "# Assignment_02 "
   ]
  },
  {
   "cell_type": "markdown",
   "id": "69710c92",
   "metadata": {},
   "source": [
    "01"
   ]
  },
  {
   "cell_type": "markdown",
   "id": "99cecab8",
   "metadata": {},
   "source": [
    "What are the two values of the Boolean data type? How do you write them?"
   ]
  },
  {
   "cell_type": "markdown",
   "id": "c4068681",
   "metadata": {},
   "source": [
    "Ans : \n",
    "    \n",
    "    Boolean data type contain two values\n",
    "    1 - True\n",
    "    2 - False"
   ]
  },
  {
   "cell_type": "code",
   "execution_count": 1,
   "id": "e22655b0",
   "metadata": {},
   "outputs": [
    {
     "name": "stdout",
     "output_type": "stream",
     "text": [
      "True\n",
      "False\n"
     ]
    }
   ],
   "source": [
    "a = True\n",
    "b = False\n",
    "if (1 == 1) :\n",
    "    print(a)\n",
    "\n",
    "if (1 ==1):\n",
    "    print(b)"
   ]
  },
  {
   "cell_type": "markdown",
   "id": "aa52355a",
   "metadata": {},
   "source": [
    "02"
   ]
  },
  {
   "cell_type": "markdown",
   "id": "82e367f6",
   "metadata": {},
   "source": [
    "What are the three different types of Boolean operators?"
   ]
  },
  {
   "cell_type": "markdown",
   "id": "f5ccfa97",
   "metadata": {},
   "source": [
    "Ans :\n",
    "\n",
    "    Boolean opertors are three different types\n",
    "    1 - OR \n",
    "    2 - AND\n",
    "    3 - NOT"
   ]
  },
  {
   "cell_type": "markdown",
   "id": "65af22f6",
   "metadata": {},
   "source": [
    "03"
   ]
  },
  {
   "cell_type": "markdown",
   "id": "efc71116",
   "metadata": {},
   "source": [
    "Make a list of each Boolean operator's truth tables\n",
    "(i.e. every possible combination of Boolean values for the operator and what it evaluate )."
   ]
  },
  {
   "cell_type": "markdown",
   "id": "dc030878",
   "metadata": {},
   "source": [
    "Ans : Below ara three variable which contain all possible operation for boolean truth tables"
   ]
  },
  {
   "cell_type": "code",
   "execution_count": 27,
   "id": "0250c100",
   "metadata": {},
   "outputs": [
    {
     "data": {
      "text/plain": [
       "[1, 1, 0, 1]"
      ]
     },
     "execution_count": 27,
     "metadata": {},
     "output_type": "execute_result"
    }
   ],
   "source": [
    "list_OR = [1 or 1 , 1 or 0 , 0 or 0, 0 or 1]\n",
    "list_OR"
   ]
  },
  {
   "cell_type": "code",
   "execution_count": 28,
   "id": "c097e0a1",
   "metadata": {},
   "outputs": [
    {
     "data": {
      "text/plain": [
       "[1, 0, 0, 0]"
      ]
     },
     "execution_count": 28,
     "metadata": {},
     "output_type": "execute_result"
    }
   ],
   "source": [
    "list_AND = [1 and 1, 1 and 0 , 0 and 0 , 0 and 1]\n",
    "list_AND"
   ]
  },
  {
   "cell_type": "code",
   "execution_count": 29,
   "id": "537ec3fa",
   "metadata": {},
   "outputs": [
    {
     "data": {
      "text/plain": [
       "[False, True]"
      ]
     },
     "execution_count": 29,
     "metadata": {},
     "output_type": "execute_result"
    }
   ],
   "source": [
    "list_NOT = [not 1 , not 0]\n",
    "list_NOT"
   ]
  },
  {
   "cell_type": "markdown",
   "id": "3c573ba5",
   "metadata": {},
   "source": [
    "04"
   ]
  },
  {
   "cell_type": "markdown",
   "id": "bf0e8b1a",
   "metadata": {},
   "source": [
    "What are the values of the following expressions?\n",
    "\n",
    "1- (5 > 4) and (3 == 5) \n",
    "\n",
    "2- not (5 > 4)         \n",
    "\n",
    "3- (5 > 4) or (3 == 5)\n",
    "\n",
    "4-not ((5 > 4) or (3 == 5))\n",
    "\n",
    "5-(True and True) and (True == False)\n",
    "\n",
    "6-(not False) or (not True)\n",
    "\n"
   ]
  },
  {
   "cell_type": "markdown",
   "id": "63f7eb1b",
   "metadata": {},
   "source": [
    "Ans:"
   ]
  },
  {
   "cell_type": "code",
   "execution_count": 45,
   "id": "58ef2cb8",
   "metadata": {},
   "outputs": [
    {
     "name": "stdout",
     "output_type": "stream",
     "text": [
      "[False, False, True, False, True]\n"
     ]
    }
   ],
   "source": [
    "print([(5 > 4) and (3 == 5),\n",
    "      not(5>4),(5>4) or (3==5),\n",
    "     (True and True) and (True == False),\n",
    "     (not False) or (not True)])"
   ]
  },
  {
   "cell_type": "markdown",
   "id": "7d2c878c",
   "metadata": {},
   "source": [
    "05"
   ]
  },
  {
   "cell_type": "markdown",
   "id": "c40af0bb",
   "metadata": {},
   "source": [
    "What are the six comparison operators?"
   ]
  },
  {
   "cell_type": "markdown",
   "id": "42dd3ee0",
   "metadata": {},
   "source": [
    "Ans:\n",
    "    \n",
    "Comparison operatiors are below"
   ]
  },
  {
   "cell_type": "markdown",
   "id": "f6bcff42",
   "metadata": {},
   "source": [
    "1. '==' :Is equal to\n",
    "\n",
    "2. '!=' :Not equal to\n",
    "\n",
    "3. '>'  :Greater then\n",
    "\n",
    "4. '>=' :Greater then or equal to\n",
    "\n",
    "5. '<'  :Lesser then \n",
    "\n",
    "6. '<=' :Lesser then or equal to"
   ]
  },
  {
   "cell_type": "markdown",
   "id": "ff90f64e",
   "metadata": {},
   "source": [
    "06"
   ]
  },
  {
   "cell_type": "markdown",
   "id": "28b26017",
   "metadata": {},
   "source": [
    "How do you tell the difference between the equal to and assignment operators?\n",
    "Describe a condition and when you would use one."
   ]
  },
  {
   "cell_type": "markdown",
   "id": "6a9785bc",
   "metadata": {},
   "source": [
    "Ans:\n",
    "\n",
    "'='. Single equal to sign is use to assign a variable or assignment operation .\n",
    "\n",
    "'=='. Double equal to sign is use when we have to check the condition.\n",
    "\n",
    "for equalto eg. a = 10\n",
    "\n",
    "for assignment operartor eg. 10 == 20"
   ]
  },
  {
   "cell_type": "markdown",
   "id": "9abeda19",
   "metadata": {},
   "source": [
    "07"
   ]
  },
  {
   "cell_type": "markdown",
   "id": "6ea40643",
   "metadata": {},
   "source": [
    "Identify the three blocks in this code:\n",
    "        \n",
    "spam = 0\n",
    "\n",
    "if spam == 10:\n",
    "print('eggs')\n",
    "\n",
    "if spam > 5:\n",
    "print('bacon')\n",
    "\n",
    "else:\n",
    "print('ham')\n",
    "print('spam')\n",
    "print('spam')\n"
   ]
  },
  {
   "cell_type": "markdown",
   "id": "a34fe255",
   "metadata": {},
   "source": [
    "Ans :"
   ]
  },
  {
   "cell_type": "code",
   "execution_count": 49,
   "id": "358c3964",
   "metadata": {},
   "outputs": [
    {
     "name": "stdout",
     "output_type": "stream",
     "text": [
      "ham\n",
      "spam\n",
      "spam\n"
     ]
    }
   ],
   "source": [
    "spam = 0\n",
    "if spam ==10:\n",
    "    print('eggs')\n",
    "    \n",
    "if spam >5:\n",
    "    print('bacon')\n",
    "\n",
    "else:\n",
    "    print('ham')\n",
    "    print('spam')\n",
    "    print('spam')"
   ]
  },
  {
   "cell_type": "markdown",
   "id": "b6db368f",
   "metadata": {},
   "source": [
    "08"
   ]
  },
  {
   "cell_type": "markdown",
   "id": "9f10591a",
   "metadata": {},
   "source": [
    "Write code that prints Hello if 1 is stored in spam, prints Howdy if 2 is stored in spam, \n",
    "and prints Greetings! if anything else is stored in spam.\n"
   ]
  },
  {
   "cell_type": "markdown",
   "id": "f56374a8",
   "metadata": {},
   "source": [
    "Ans: Code Below"
   ]
  },
  {
   "cell_type": "code",
   "execution_count": 69,
   "id": "385bab35",
   "metadata": {},
   "outputs": [
    {
     "name": "stdout",
     "output_type": "stream",
     "text": [
      "please enter the interger 2\n",
      "Howdy\n"
     ]
    }
   ],
   "source": [
    "try:\n",
    "    spam = int(input(\"please enter the interger: \"))\n",
    "\n",
    "    if spam == 1:\n",
    "        print('Hello')\n",
    "\n",
    "    elif spam == 2:\n",
    "        print('Howdy')\n",
    "\n",
    "    else:\n",
    "        print('Greetings!')\n",
    "except Exception as e:\n",
    "    print(\"Try again with interger only\")\n",
    "    print(\"Error occure\", e)"
   ]
  },
  {
   "cell_type": "markdown",
   "id": "8f5670a0",
   "metadata": {},
   "source": [
    "09"
   ]
  },
  {
   "cell_type": "markdown",
   "id": "96beda30",
   "metadata": {},
   "source": [
    "If your programme is stuck in an endless loop, what keys you’ll press?"
   ]
  },
  {
   "cell_type": "markdown",
   "id": "a579715a",
   "metadata": {},
   "source": [
    "Ans: \n",
    "    \n",
    "1- ctrl + c  form the command line\n",
    "\n",
    "2- Restart the kernal"
   ]
  },
  {
   "cell_type": "markdown",
   "id": "b3c5aa0d",
   "metadata": {},
   "source": [
    "10"
   ]
  },
  {
   "cell_type": "markdown",
   "id": "88a6071d",
   "metadata": {},
   "source": [
    "How can you tell the difference between break and continue?"
   ]
  },
  {
   "cell_type": "markdown",
   "id": "747603ad",
   "metadata": {},
   "source": [
    "Ans :\n",
    "\n",
    "Continue : When we use continue statement and  the condition is met in the then continue skip the current iteration and\n",
    "           jump to next iteration.\n",
    "\n",
    "break    : Break will immediately stop the iteration when condition is met."
   ]
  },
  {
   "cell_type": "markdown",
   "id": "9b6eff2b",
   "metadata": {},
   "source": [
    "11"
   ]
  },
  {
   "cell_type": "markdown",
   "id": "7f8464dc",
   "metadata": {},
   "source": [
    "In a for loop, what is the difference between range(10), range(0, 10), and range(0, 10, 1)?"
   ]
  },
  {
   "cell_type": "code",
   "execution_count": 70,
   "id": "b4b5a341",
   "metadata": {},
   "outputs": [
    {
     "data": {
      "text/plain": [
       "range(0, 10)"
      ]
     },
     "execution_count": 70,
     "metadata": {},
     "output_type": "execute_result"
    }
   ],
   "source": [
    "range(10)"
   ]
  },
  {
   "cell_type": "code",
   "execution_count": 71,
   "id": "e6709bbe",
   "metadata": {},
   "outputs": [
    {
     "data": {
      "text/plain": [
       "range(0, 10)"
      ]
     },
     "execution_count": 71,
     "metadata": {},
     "output_type": "execute_result"
    }
   ],
   "source": [
    "range(0,10)"
   ]
  },
  {
   "cell_type": "code",
   "execution_count": 72,
   "id": "04af2b18",
   "metadata": {},
   "outputs": [
    {
     "data": {
      "text/plain": [
       "range(0, 10)"
      ]
     },
     "execution_count": 72,
     "metadata": {},
     "output_type": "execute_result"
    }
   ],
   "source": [
    "range(0,10,1)"
   ]
  },
  {
   "cell_type": "markdown",
   "id": "fc8c8ddf",
   "metadata": {},
   "source": [
    "There is not difference between them just different way write.\n",
    "\n",
    "1 - range(10) ---- range function bydefault start with zero and exclude the upper bound\n",
    "\n",
    "2 - range(0,10)--- just mention 0 \n",
    "\n",
    "3 - range(0,10,1)- step size is bydefault is 1 and here 1 step size is mention"
   ]
  },
  {
   "cell_type": "markdown",
   "id": "e16e9949",
   "metadata": {},
   "source": [
    "12"
   ]
  },
  {
   "cell_type": "markdown",
   "id": "9d5e18f1",
   "metadata": {},
   "source": [
    "Write a short program that prints the numbers 1 to 10 using a for loop. \n",
    "Then write an equivalent program that prints the numbers 1 to 10 using a while loop."
   ]
  },
  {
   "cell_type": "markdown",
   "id": "23e2563a",
   "metadata": {},
   "source": [
    "Ans : "
   ]
  },
  {
   "cell_type": "code",
   "execution_count": 83,
   "id": "0cfb2cd5",
   "metadata": {},
   "outputs": [
    {
     "name": "stdout",
     "output_type": "stream",
     "text": [
      "1 2 3 4 5 6 7 8 9 10 "
     ]
    }
   ],
   "source": [
    "#Using For - loop\n",
    "a = range(1,11)\n",
    "for i in a:\n",
    "    print(i,end = \" \")"
   ]
  },
  {
   "cell_type": "code",
   "execution_count": 84,
   "id": "fec42755",
   "metadata": {},
   "outputs": [
    {
     "name": "stdout",
     "output_type": "stream",
     "text": [
      "1 2 3 4 5 6 7 8 9 10 "
     ]
    }
   ],
   "source": [
    "#Using While loop\n",
    "\n",
    "i = 1\n",
    "\n",
    "while i<=10:\n",
    "    print(i, end = \" \")\n",
    "    i+=1"
   ]
  },
  {
   "cell_type": "markdown",
   "id": "0dfcdd4e",
   "metadata": {},
   "source": [
    "13"
   ]
  },
  {
   "cell_type": "markdown",
   "id": "1e6a3b63",
   "metadata": {},
   "source": [
    "If you had a function named bacon() inside a module named spam, how would you call it after importing spam?"
   ]
  },
  {
   "cell_type": "markdown",
   "id": "36a817bc",
   "metadata": {},
   "source": [
    "Ans:\n",
    "\n",
    "import spam\n",
    "\n",
    "spam.bacon()"
   ]
  },
  {
   "cell_type": "code",
   "execution_count": null,
   "id": "fb58baa5",
   "metadata": {},
   "outputs": [],
   "source": []
  }
 ],
 "metadata": {
  "kernelspec": {
   "display_name": "Python 3",
   "language": "python",
   "name": "python3"
  },
  "language_info": {
   "codemirror_mode": {
    "name": "ipython",
    "version": 3
   },
   "file_extension": ".py",
   "mimetype": "text/x-python",
   "name": "python",
   "nbconvert_exporter": "python",
   "pygments_lexer": "ipython3",
   "version": "3.8.8"
  }
 },
 "nbformat": 4,
 "nbformat_minor": 5
}
